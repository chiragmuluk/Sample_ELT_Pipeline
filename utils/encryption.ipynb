{
 "cells": [
  {
   "cell_type": "code",
   "execution_count": 0,
   "metadata": {
    "application/vnd.databricks.v1+cell": {
     "cellMetadata": {
      "byteLimit": 2048000,
      "rowLimit": 10000
     },
     "inputWidgets": {},
     "nuid": "f5188afa-9802-43d8-b5bf-e6a2779418c1",
     "showTitle": false,
     "tableResultSettingsMap": {},
     "title": ""
    }
   },
   "outputs": [],
   "source": [
    "from Crypto.Cipher import AES\n",
    "from Crypto.Random import get_random_bytes\n",
    "import base64"
   ]
  },
  {
   "cell_type": "code",
   "execution_count": 0,
   "metadata": {
    "application/vnd.databricks.v1+cell": {
     "cellMetadata": {},
     "inputWidgets": {},
     "nuid": "fe5e1426-218b-4f2c-972a-fa07bed5e708",
     "showTitle": false,
     "tableResultSettingsMap": {},
     "title": ""
    }
   },
   "outputs": [],
   "source": [
    "\n",
    "def aes_encrypt(data, key):\n",
    "    # key must be 16, 24, or 32 bytes long\n",
    "    cipher = AES.new(key, AES.MODE_GCM)\n",
    "    ciphertext, tag = cipher.encrypt_and_digest(data.encode())\n",
    "    encrypted = {\n",
    "        'ciphertext': base64.b64encode(ciphertext).decode(),\n",
    "        'nonce': base64.b64encode(cipher.nonce).decode(),\n",
    "        'tag': base64.b64encode(tag).decode()\n",
    "    }\n",
    "    return encrypted\n",
    "\n",
    "# Example usage:\n",
    "key = get_random_bytes(32)  # 256-bit key\n",
    "data = \"Sensitive information\"\n",
    "encrypted_data = aes_encrypt(data, key)"
   ]
  },
  {
   "cell_type": "code",
   "execution_count": 0,
   "metadata": {
    "application/vnd.databricks.v1+cell": {
     "cellMetadata": {},
     "inputWidgets": {},
     "nuid": "dd930807-5f06-46a4-b782-0acb8b075ee4",
     "showTitle": false,
     "tableResultSettingsMap": {},
     "title": ""
    }
   },
   "outputs": [],
   "source": [
    "def aes_decrypt(encrypted, key):\n",
    "    nonce = base64.b64decode(encrypted['nonce'])\n",
    "    ciphertext = base64.b64decode(encrypted['ciphertext'])\n",
    "    tag = base64.b64decode(encrypted['tag'])\n",
    "    cipher = AES.new(key, AES.MODE_GCM, nonce=nonce)\n",
    "    decrypted = cipher.decrypt_and_verify(ciphertext, tag)\n",
    "    return decrypted.decode()"
   ]
  },
  {
   "cell_type": "code",
   "execution_count": 0,
   "metadata": {
    "application/vnd.databricks.v1+cell": {
     "cellMetadata": {
      "byteLimit": 2048000,
      "rowLimit": 10000
     },
     "inputWidgets": {},
     "nuid": "cb9a069a-092d-4765-91b3-372e5e09a774",
     "showTitle": false,
     "tableResultSettingsMap": {},
     "title": ""
    }
   },
   "outputs": [],
   "source": [
    "key"
   ]
  },
  {
   "cell_type": "code",
   "execution_count": 0,
   "metadata": {
    "application/vnd.databricks.v1+cell": {
     "cellMetadata": {
      "byteLimit": 2048000,
      "rowLimit": 10000
     },
     "inputWidgets": {},
     "nuid": "a4bea03f-8c08-428a-affc-fd54e0b0c7e2",
     "showTitle": false,
     "tableResultSettingsMap": {},
     "title": ""
    }
   },
   "outputs": [],
   "source": [
    "encrypted_data"
   ]
  },
  {
   "cell_type": "code",
   "execution_count": 0,
   "metadata": {
    "application/vnd.databricks.v1+cell": {
     "cellMetadata": {
      "byteLimit": 2048000,
      "rowLimit": 10000
     },
     "inputWidgets": {},
     "nuid": "c9aa295e-218d-4f27-8864-f15477451c9a",
     "showTitle": false,
     "tableResultSettingsMap": {},
     "title": ""
    }
   },
   "outputs": [],
   "source": [
    "decrypted_data = aes_decrypt(encrypted_data, b'f8\\xef\\xc3\\xd4>B\\xeb\\xb0*=i\\xbfw@=\\xd2&\\xb8\\xd9\\x7fAetW<d\\xf0\\x14_\\xf3]'\n",
    ")"
   ]
  },
  {
   "cell_type": "code",
   "execution_count": 0,
   "metadata": {
    "application/vnd.databricks.v1+cell": {
     "cellMetadata": {
      "byteLimit": 2048000,
      "rowLimit": 10000
     },
     "inputWidgets": {},
     "nuid": "94a5a736-d112-41c1-8455-0c5875907112",
     "showTitle": false,
     "tableResultSettingsMap": {},
     "title": ""
    }
   },
   "outputs": [],
   "source": [
    "print(decrypted_data)"
   ]
  }
 ],
 "metadata": {
  "application/vnd.databricks.v1+notebook": {
   "computePreferences": null,
   "dashboards": [],
   "environmentMetadata": {
    "base_environment": "",
    "environment_version": "3"
   },
   "inputWidgetPreferences": null,
   "language": "python",
   "notebookMetadata": {
    "pythonIndentUnit": 4
   },
   "notebookName": "encryption",
   "widgets": {}
  },
  "language_info": {
   "name": "python"
  }
 },
 "nbformat": 4,
 "nbformat_minor": 0
}
