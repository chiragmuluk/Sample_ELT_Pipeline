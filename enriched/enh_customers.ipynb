{
 "cells": [
  {
   "cell_type": "code",
   "execution_count": 0,
   "metadata": {
    "application/vnd.databricks.v1+cell": {
     "cellMetadata": {
      "byteLimit": 2048000,
      "rowLimit": 10000
     },
     "inputWidgets": {},
     "nuid": "9cce43f9-1e3d-4b99-9600-b82c7101a55f",
     "showTitle": false,
     "tableResultSettingsMap": {},
     "title": ""
    }
   },
   "outputs": [],
   "source": [
    "# Import necessary functions and classes for Spark DataFrame transformations and Delta Lake operations\n",
    "from pyspark.sql.functions import col, when, lit, current_timestamp, trim, sha2, concat_ws, row_number, to_date\n",
    "from pyspark.sql.types import DoubleType, IntegerType\n",
    "from pyspark.sql.window import Window\n",
    "from delta.tables import DeltaTable"
   ]
  },
  {
   "cell_type": "code",
   "execution_count": 0,
   "metadata": {
    "application/vnd.databricks.v1+cell": {
     "cellMetadata": {
      "byteLimit": 2048000,
      "rowLimit": 10000
     },
     "inputWidgets": {},
     "nuid": "2ed54fe4-e3c4-4fda-b7fc-7d92e7db5086",
     "showTitle": false,
     "tableResultSettingsMap": {},
     "title": ""
    }
   },
   "outputs": [],
   "source": [
    "%run ../utils/config"
   ]
  },
  {
   "cell_type": "code",
   "execution_count": 0,
   "metadata": {
    "application/vnd.databricks.v1+cell": {
     "cellMetadata": {
      "byteLimit": 2048000,
      "rowLimit": 10000
     },
     "inputWidgets": {},
     "nuid": "de6dd3aa-8796-439f-a75b-1bd404bd6947",
     "showTitle": false,
     "tableResultSettingsMap": {},
     "title": ""
    }
   },
   "outputs": [],
   "source": [
    "# Define table names for each layer in the pipeline\n",
    "bronze_table_name = \"{}.{}\".format(raw_uk_schema,raw_customers_table)           # Raw customer data (Bronze layer)\n",
    "silver_table_name = \"{}.{}\".format(enriched_uk_schema,cleaned_customers_table)  # Cleaned and enriched customer data (Silver layer)\n",
    "quarantine_table_name = \"{}.{}\".format(data_quality_uk_schema,data_quality_customer_table)     # Invalid or quarantined customer records"
   ]
  },
  {
   "cell_type": "code",
   "execution_count": 0,
   "metadata": {
    "application/vnd.databricks.v1+cell": {
     "cellMetadata": {
      "byteLimit": 2048000,
      "rowLimit": 10000
     },
     "inputWidgets": {},
     "nuid": "310d67fd-f1b1-4e24-9c6f-0d7fc026c362",
     "showTitle": false,
     "tableResultSettingsMap": {},
     "title": ""
    }
   },
   "outputs": [],
   "source": [
    "# Load today's customer records from the Bronze table\n",
    "customers_bronze_df = spark.table(bronze_table_name).filter(col(\"created_at\").cast(\"date\") == current_timestamp().cast(\"date\"))"
   ]
  },
  {
   "cell_type": "code",
   "execution_count": 0,
   "metadata": {
    "application/vnd.databricks.v1+cell": {
     "cellMetadata": {
      "byteLimit": 2048000,
      "rowLimit": 10000
     },
     "inputWidgets": {},
     "nuid": "fa32e64c-32ba-4b8f-bae5-78cbdd388d7d",
     "showTitle": false,
     "tableResultSettingsMap": {},
     "title": ""
    }
   },
   "outputs": [],
   "source": [
    "# Define a window specification to partition by customer_id and order by created_at descending\n",
    "window_spec = Window.partitionBy(\"customer_id\").orderBy(col(\"created_at\").desc())\n",
    "\n",
    "# Add a row number to each record within the partition to identify the latest record per customer\n",
    "deduped_df = customers_bronze_df.withColumn(\"row_num\", row_number().over(window_spec))\n",
    "\n",
    "# Filter to keep only the latest record for each customer_id (row_num == 1)\n",
    "customers_bronze_df = deduped_df.filter(\"row_num == 1\").drop(\"row_num\")\n",
    "\n",
    "# Drop unnecessary columns after deduplication\n",
    "customers_bronze_df = customers_bronze_df.drop(\"system_of_record\", \"created_at\")"
   ]
  },
  {
   "cell_type": "code",
   "execution_count": 0,
   "metadata": {
    "application/vnd.databricks.v1+cell": {
     "cellMetadata": {
      "byteLimit": 2048000,
      "rowLimit": 10000
     },
     "inputWidgets": {},
     "nuid": "7b6fc167-31c8-4c46-904e-e01b2876b498",
     "showTitle": false,
     "tableResultSettingsMap": {},
     "title": ""
    }
   },
   "outputs": [],
   "source": [
    "# Transform bronze customer records for the Silver layer\n",
    "customers_silver_df = (\n",
    "    customers_bronze_df\n",
    "    # Convert registration_date to DateType\n",
    "    .withColumn(\"registration_date\", to_date(col(\"registration_date\"), \"yyyy-MM-dd\"))\n",
    "    # Add processing timestamp for audit purposes\n",
    "    .withColumn(\"_processing_timestamp\", current_timestamp())\n",
    "    # Rename file_path column to _source_file_path for lineage tracking\n",
    "    .withColumnRenamed(\"file_path\", \"_source_file_path\")\n",
    "    # Initialize _error_message column for validation results\n",
    "    .withColumn(\"_error_message\", lit(None).cast(\"string\"))\n",
    ")"
   ]
  },
  {
   "cell_type": "code",
   "execution_count": 0,
   "metadata": {
    "application/vnd.databricks.v1+cell": {
     "cellMetadata": {
      "byteLimit": 2048000,
      "rowLimit": 10000
     },
     "inputWidgets": {},
     "nuid": "5080e927-83e6-4b95-88e3-77cc612dccf1",
     "showTitle": false,
     "tableResultSettingsMap": {},
     "title": ""
    }
   },
   "outputs": [],
   "source": [
    "# Clean and standardize customer fields: trim whitespace, set blanks/nulls to None\n",
    "customers_silver_df = (\n",
    "    customers_silver_df\n",
    "    # Clean first_name: trim, set blank/null to None\n",
    "    .withColumn(\n",
    "        \"first_name\",\n",
    "        when(\n",
    "            col(\"first_name\").isNull() | (trim(col(\"first_name\")) == \"\"),\n",
    "            lit(None)\n",
    "        ).otherwise(trim(col(\"first_name\")))\n",
    "    )\n",
    "    # Clean last_name: trim, set blank/null to None\n",
    "    .withColumn(\n",
    "        \"last_name\",\n",
    "        when(\n",
    "            col(\"last_name\").isNull() | (trim(col(\"last_name\")) == \"\"),\n",
    "            lit(None)\n",
    "        ).otherwise(trim(col(\"last_name\")))\n",
    "    )\n",
    "    # Clean email: trim, set blank/null to None\n",
    "    .withColumn(\n",
    "        \"email\",\n",
    "        when(\n",
    "            col(\"email\").isNull() | (trim(col(\"email\")) == \"\"),\n",
    "            lit(None)\n",
    "        ).otherwise(trim(col(\"email\")))\n",
    "    )\n",
    "    # Clean registration_date: set nulls to None\n",
    "    .withColumn(\n",
    "        \"registration_date\",\n",
    "        when(\n",
    "            col(\"registration_date\").isNull(),\n",
    "            lit(None)\n",
    "        ).otherwise(col(\"registration_date\"))\n",
    "    )\n",
    "    # Clean city: trim, set blank/null to None\n",
    "    .withColumn(\n",
    "        \"city\",\n",
    "        when(\n",
    "            col(\"city\").isNull() | (trim(col(\"city\")) == \"\"),\n",
    "            lit(None)\n",
    "        ).otherwise(trim(col(\"city\")))\n",
    "    )\n",
    "    # Clean country: trim, set blank/null to None\n",
    "    .withColumn(\n",
    "        \"country\",\n",
    "        when(\n",
    "            col(\"country\").isNull() | (trim(col(\"country\")) == \"\"),\n",
    "            lit(None)\n",
    "        ).otherwise(trim(col(\"country\")))\n",
    "    )\n",
    ")"
   ]
  },
  {
   "cell_type": "code",
   "execution_count": 0,
   "metadata": {
    "application/vnd.databricks.v1+cell": {
     "cellMetadata": {
      "byteLimit": 2048000,
      "rowLimit": 10000
     },
     "inputWidgets": {},
     "nuid": "522e1fb7-e5f2-4ec6-857c-2b728bf6131b",
     "showTitle": false,
     "tableResultSettingsMap": {},
     "title": ""
    }
   },
   "outputs": [],
   "source": [
    "# Define validation rules as tuples for clarity\n",
    "validation_rules = [\n",
    "    # Rule: customer_id must not be null\n",
    "    (col(\"customer_id\").isNull(), \"Customer ID is missing.\"),\n",
    "    # Rule: first_name must not be null or blank\n",
    "    (col(\"first_name\").isNull() | (trim(col(\"first_name\")) == \"\"), \"First name is missing or blank.\"),\n",
    "    # Rule: last_name must not be null or blank\n",
    "    (col(\"last_name\").isNull() | (trim(col(\"last_name\")) == \"\"), \"Last name is missing or blank.\"),\n",
    "    # Rule: registration_date must not be null\n",
    "    (col(\"registration_date\").isNull(), \"Registration date is missing.\"),\n",
    "    # Rule: city must not be null or blank\n",
    "    (col(\"city\").isNull() | (trim(col(\"city\")) == \"\"), \"City is missing or blank.\"),\n",
    "    # Rule: country must not be null or blank\n",
    "    (col(\"country\").isNull() | (trim(col(\"country\")) == \"\"), \"Country is missing or blank.\")\n",
    "]\n",
    "\n",
    "# Chain error messages so the first validation failure is captured\n",
    "error_message_chain = lit(None)\n",
    "for condition, error in reversed(validation_rules):\n",
    "    error_message_chain = when(condition, error).otherwise(error_message_chain)\n",
    "\n",
    "# Apply the chained validation logic to the DataFrame\n",
    "customers_silver_df = customers_silver_df.withColumn(\n",
    "    \"_error_message\",\n",
    "    error_message_chain\n",
    ")"
   ]
  },
  {
   "cell_type": "code",
   "execution_count": 0,
   "metadata": {
    "application/vnd.databricks.v1+cell": {
     "cellMetadata": {
      "byteLimit": 2048000,
      "rowLimit": 10000
     },
     "inputWidgets": {},
     "nuid": "2b59721a-f0d4-46e6-86de-e47c0684aa3d",
     "showTitle": false,
     "tableResultSettingsMap": {},
     "title": ""
    }
   },
   "outputs": [],
   "source": [
    "# Filter valid records: keep rows with no error message, drop the _error_message column\n",
    "valid_records_df = customers_silver_df.filter(col(\"_error_message\").isNull()).drop(\"_error_message\")\n",
    "\n",
    "# Filter invalid records: keep rows with an error message\n",
    "invalid_records_df = customers_silver_df.filter(col(\"_error_message\").isNotNull())"
   ]
  },
  {
   "cell_type": "code",
   "execution_count": 0,
   "metadata": {
    "application/vnd.databricks.v1+cell": {
     "cellMetadata": {
      "byteLimit": 2048000,
      "rowLimit": 10000
     },
     "inputWidgets": {},
     "nuid": "2033811f-f039-433d-809d-f24a02782f00",
     "showTitle": false,
     "tableResultSettingsMap": {},
     "title": ""
    }
   },
   "outputs": [],
   "source": [
    "# Generate a unique hash key for each customer based on customer_id\n",
    "valid_records_df = valid_records_df.withColumn(\"customer_hash_key\", sha2(concat_ws(\n",
    "            \"^\",col(\"customer_id\")\n",
    "            ),\n",
    "            256\n",
    "    )\n",
    ")\n",
    "\n",
    "# Generate a row-level hash for SCD2 comparison based on city and country\n",
    "valid_records_df = valid_records_df.withColumn(\"row_hash\",\n",
    "    sha2(\n",
    "        concat_ws(\n",
    "            \"^\",\n",
    "            col(\"city\"),\n",
    "            col(\"country\")\n",
    "        ),\n",
    "        256\n",
    "    )\n",
    ")"
   ]
  },
  {
   "cell_type": "code",
   "execution_count": 0,
   "metadata": {
    "application/vnd.databricks.v1+cell": {
     "cellMetadata": {
      "byteLimit": 2048000,
      "rowLimit": 10000
     },
     "inputWidgets": {},
     "nuid": "589946f2-2e5c-48f2-a66c-41aebbb8334e",
     "showTitle": false,
     "tableResultSettingsMap": {},
     "title": ""
    }
   },
   "outputs": [],
   "source": [
    "# Load the Silver Delta table for SCD2 merge operations\n",
    "silver_delta_table = DeltaTable.forName(spark, silver_table_name.strip())\n",
    "\n",
    "# Define the merge condition based on the unique customer hash key\n",
    "merge_condition = \"target.customer_hash_key = source.customer_hash_key\"\n",
    "\n",
    "(\n",
    "    silver_delta_table.alias(\"target\")\n",
    "    # Perform SCD2 merge: update or insert records based on hash comparison\n",
    "    .merge(\n",
    "        valid_records_df.alias(\"source\"),\n",
    "        merge_condition\n",
    "    )\n",
    "    # If matched and row_hash differs, mark previous record as not current and set end_date\n",
    "    .whenMatchedUpdate(\n",
    "        condition=\"target.row_hash <> source.row_hash\",\n",
    "        set={\n",
    "            \"is_current\": \"false\",\n",
    "            \"end_date\": \"CAST(source._processing_timestamp AS DATE)\"\n",
    "        }\n",
    "    )\n",
    "    # If not matched, insert new record as current with start_date and null end_date\n",
    "    .whenNotMatchedInsert(\n",
    "        values={\n",
    "            \"customer_id\": \"source.customer_id\",\n",
    "            \"first_name\": \"source.first_name\",\n",
    "            \"last_name\": \"source.last_name\",\n",
    "            \"email\": \"source.email\",\n",
    "            \"registration_date\": \"source.registration_date\",\n",
    "            \"city\": \"source.city\",\n",
    "            \"country\": \"source.country\",\n",
    "            \"customer_hash_key\": \"source.customer_hash_key\",\n",
    "            \"row_hash\": \"source.row_hash\",\n",
    "            \"source_system\": \"source.source_system\",\n",
    "            \"_source_file_path\": \"source._source_file_path\",\n",
    "            \"_processing_timestamp\": \"CAST(source._processing_timestamp AS DATE)\",\n",
    "            \"is_current\": \"true\",\n",
    "            \"start_date\": \"CAST(source._processing_timestamp AS DATE)\",\n",
    "            \"end_date\": \"null\"\n",
    "        }\n",
    "    )\n",
    "    .execute()\n",
    ")"
   ]
  },
  {
   "cell_type": "code",
   "execution_count": 0,
   "metadata": {
    "application/vnd.databricks.v1+cell": {
     "cellMetadata": {
      "byteLimit": 2048000,
      "rowLimit": 10000
     },
     "inputWidgets": {},
     "nuid": "52e5e0ad-e8ea-4308-a419-715f07b7241f",
     "showTitle": false,
     "tableResultSettingsMap": {},
     "title": ""
    }
   },
   "outputs": [],
   "source": [
    "# Write invalid customer records to the Quarantine Delta table for further review\n",
    "invalid_records_df.write \\\n",
    "    .format(\"delta\") \\\n",
    "    .mode(\"append\") \\\n",
    "    .saveAsTable(quarantine_table_name)\n"
   ]
  }
 ],
 "metadata": {
  "application/vnd.databricks.v1+notebook": {
   "computePreferences": null,
   "dashboards": [],
   "environmentMetadata": {
    "base_environment": "",
    "environment_version": "3"
   },
   "inputWidgetPreferences": null,
   "language": "python",
   "notebookMetadata": {
    "mostRecentlyExecutedCommandWithImplicitDF": {
     "commandId": 5130952999235177,
     "dataframes": [
      "_sqldf"
     ]
    },
    "pythonIndentUnit": 4
   },
   "notebookName": "enh_customers",
   "widgets": {}
  },
  "language_info": {
   "name": "python"
  }
 },
 "nbformat": 4,
 "nbformat_minor": 0
}
