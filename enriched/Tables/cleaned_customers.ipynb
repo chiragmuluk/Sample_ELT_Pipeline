{
 "cells": [
  {
   "cell_type": "code",
   "execution_count": 0,
   "metadata": {
    "application/vnd.databricks.v1+cell": {
     "cellMetadata": {
      "byteLimit": 2048000,
      "rowLimit": 10000
     },
     "inputWidgets": {},
     "nuid": "9f04d2b2-456d-4664-bef7-6b210bd330c3",
     "showTitle": false,
     "tableResultSettingsMap": {},
     "title": ""
    }
   },
   "outputs": [],
   "source": [
    "-- Create the cleaned_customers table in the workspace.insulet_uk_enriched schema if it does not exist\n",
    "CREATE TABLE IF NOT EXISTS workspace.insulet_uk_enriched.cleaned_customers (\n",
    "  customer_id STRING COMMENT 'Unique identifier for the customer',\n",
    "  first_name STRING COMMENT 'Customer first name',\n",
    "  last_name STRING COMMENT 'Customer last name',\n",
    "  email STRING COMMENT 'Customer email address',\n",
    "  registration_date DATE COMMENT 'Date when the customer registered',\n",
    "  city STRING COMMENT 'City where the customer resides',\n",
    "  country STRING COMMENT 'Country of the customer',\n",
    "  start_date DATE COMMENT 'Start date of the customer record validity',\n",
    "  end_date DATE COMMENT 'End date of the customer record validity',\n",
    "  is_current BOOLEAN COMMENT 'Indicates if the record is the current active record for the customer',\n",
    "  row_hash STRING COMMENT 'Hash of the row for change tracking',\n",
    "  customer_hash_key STRING COMMENT 'Hash key uniquely identifying the customer across systems',\n",
    "  source_system STRING COMMENT 'Source system for the record',\n",
    "  _processing_timestamp TIMESTAMP COMMENT 'Timestamp when the record was processed',\n",
    "  _source_file_path STRING COMMENT 'Source file path for the record'\n",
    ")\n",
    "USING DELTA"
   ]
  }
 ],
 "metadata": {
  "application/vnd.databricks.v1+notebook": {
   "computePreferences": null,
   "dashboards": [],
   "environmentMetadata": {
    "base_environment": "",
    "environment_version": "3"
   },
   "inputWidgetPreferences": null,
   "language": "sql",
   "notebookMetadata": {
    "pythonIndentUnit": 4
   },
   "notebookName": "cleaned_customers",
   "widgets": {}
  },
  "language_info": {
   "name": "sql"
  }
 },
 "nbformat": 4,
 "nbformat_minor": 0
}
