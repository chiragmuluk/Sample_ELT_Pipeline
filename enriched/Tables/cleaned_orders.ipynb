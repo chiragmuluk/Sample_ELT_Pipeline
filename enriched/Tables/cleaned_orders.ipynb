{
 "cells": [
  {
   "cell_type": "code",
   "execution_count": 0,
   "metadata": {
    "application/vnd.databricks.v1+cell": {
     "cellMetadata": {
      "byteLimit": 2048000,
      "rowLimit": 10000
     },
     "inputWidgets": {},
     "nuid": "3fa9d8c9-2863-41c7-8fa3-5db9db5aa8e0",
     "showTitle": false,
     "tableResultSettingsMap": {},
     "title": ""
    }
   },
   "outputs": [],
   "source": [
    "-- Create the cleaned_orders table in the workspace.insulet_uk_enriched schema if it does not exist\n",
    "CREATE TABLE IF NOT EXISTS workspace.insulet_uk_enriched.cleaned_orders (\n",
    "  order_id STRING COMMENT 'Unique identifier for the order',\n",
    "  customer_id STRING COMMENT 'Unique identifier for the customer',\n",
    "  order_date DATE COMMENT 'Date and time when the order was placed',\n",
    "  total_amount DOUBLE COMMENT 'Total amount for the order in GBP',\n",
    "  status STRING COMMENT 'Current status of the order',\n",
    "  product_id STRING COMMENT 'Unique identifier for the product',\n",
    "  quantity INT COMMENT 'Quantity of the product ordered',\n",
    "  row_hash_key STRING COMMENT 'Hash key for the row, used for change tracking',\n",
    "  order_hash_key STRING COMMENT 'Hash key for the order, used for deduplication',\n",
    "  source_system STRING COMMENT 'Source system for the record',\n",
    "  _processing_timestamp TIMESTAMP COMMENT 'Timestamp when the record was processed',\n",
    "  _source_file_path STRING COMMENT 'Source file path for the record'\n",
    ")\n",
    "USING DELTA"
   ]
  }
 ],
 "metadata": {
  "application/vnd.databricks.v1+notebook": {
   "computePreferences": null,
   "dashboards": [],
   "environmentMetadata": {
    "base_environment": "",
    "environment_version": "3"
   },
   "inputWidgetPreferences": null,
   "language": "sql",
   "notebookMetadata": {
    "pythonIndentUnit": 4
   },
   "notebookName": "cleaned_orders",
   "widgets": {}
  },
  "language_info": {
   "name": "sql"
  }
 },
 "nbformat": 4,
 "nbformat_minor": 0
}
