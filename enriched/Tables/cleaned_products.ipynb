{
 "cells": [
  {
   "cell_type": "code",
   "execution_count": 0,
   "metadata": {
    "application/vnd.databricks.v1+cell": {
     "cellMetadata": {
      "byteLimit": 2048000,
      "rowLimit": 10000
     },
     "inputWidgets": {},
     "nuid": "cc460deb-2892-4484-bb29-cb7cf7eaf41e",
     "showTitle": false,
     "tableResultSettingsMap": {},
     "title": ""
    }
   },
   "outputs": [],
   "source": [
    "-- Create the cleaned_products table in the workspace.insulet_uk_enriched schema if it does not exist\n",
    "CREATE TABLE IF NOT EXISTS workspace.insulet_uk_enriched.cleaned_products (\n",
    "  product_id STRING COMMENT 'Unique identifier for the product',\n",
    "  product_name STRING COMMENT 'Name of the product',\n",
    "  category STRING COMMENT 'Product category',\n",
    "  price DOUBLE COMMENT 'Product price in GBP',\n",
    "  stock_quantity INT COMMENT 'Number of items in stock',\n",
    "  start_date DATE, -- Date when the product became available\n",
    "  end_date DATE, -- Date when the product was discontinued or ended\n",
    "  is_current BOOLEAN, -- Indicates if the product is currently active\n",
    "  row_hash STRING, -- Hash value for the row for change tracking\n",
    "  product_hash_key STRING, -- Hash key for the product for deduplication\n",
    "  source_system STRING COMMENT 'Source system for the record',\n",
    "  _processing_timestamp TIMESTAMP COMMENT 'Timestamp when the record was processed',\n",
    "  _source_file_path STRING COMMENT 'Source file path for the record'\n",
    "  )\n",
    "USING DELTA -- Store the table as a Delta Lake table"
   ]
  }
 ],
 "metadata": {
  "application/vnd.databricks.v1+notebook": {
   "computePreferences": null,
   "dashboards": [],
   "environmentMetadata": {
    "base_environment": "",
    "environment_version": "3"
   },
   "inputWidgetPreferences": null,
   "language": "sql",
   "notebookMetadata": {
    "pythonIndentUnit": 4
   },
   "notebookName": "cleaned_products",
   "widgets": {}
  },
  "language_info": {
   "name": "sql"
  }
 },
 "nbformat": 4,
 "nbformat_minor": 0
}
