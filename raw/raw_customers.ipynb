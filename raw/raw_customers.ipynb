{
 "cells": [
  {
   "cell_type": "code",
   "execution_count": 0,
   "metadata": {
    "application/vnd.databricks.v1+cell": {
     "cellMetadata": {
      "byteLimit": 2048000,
      "rowLimit": 10000
     },
     "inputWidgets": {},
     "nuid": "ba893bb4-aa29-4c55-89e0-2ef276b57036",
     "showTitle": false,
     "tableResultSettingsMap": {},
     "title": ""
    }
   },
   "outputs": [],
   "source": [
    "# Import necessary PySpark data types for schema definition\n",
    "from pyspark.sql.types import StructType, StructField, StringType, TimestampType\n",
    "\n",
    "# Import PySpark SQL functions for DataFrame operations\n",
    "from pyspark.sql.functions import current_timestamp, lit, col, lower, broadcast\n",
    "\n",
    "# Import Python datetime utilities for date calculations\n",
    "from datetime import datetime, timedelta"
   ]
  },
  {
   "cell_type": "code",
   "execution_count": 0,
   "metadata": {
    "application/vnd.databricks.v1+cell": {
     "cellMetadata": {
      "byteLimit": 2048000,
      "rowLimit": 10000
     },
     "inputWidgets": {},
     "nuid": "4b18c607-4dd5-4c65-8925-f238774fe3c8",
     "showTitle": false,
     "tableResultSettingsMap": {},
     "title": ""
    }
   },
   "outputs": [],
   "source": [
    "%run ../utils/helpers"
   ]
  },
  {
   "cell_type": "code",
   "execution_count": 0,
   "metadata": {
    "application/vnd.databricks.v1+cell": {
     "cellMetadata": {
      "byteLimit": 2048000,
      "rowLimit": 10000
     },
     "inputWidgets": {},
     "nuid": "bbd15197-6680-4788-a894-afd6724f8eb6",
     "showTitle": false,
     "tableResultSettingsMap": {},
     "title": ""
    }
   },
   "outputs": [],
   "source": [
    "%run ../utils/config"
   ]
  },
  {
   "cell_type": "code",
   "execution_count": 0,
   "metadata": {
    "application/vnd.databricks.v1+cell": {
     "cellMetadata": {
      "byteLimit": 2048000,
      "rowLimit": 10000
     },
     "inputWidgets": {},
     "nuid": "022644d8-fb47-4786-b24f-a476324a7da4",
     "showTitle": false,
     "tableResultSettingsMap": {},
     "title": ""
    }
   },
   "outputs": [],
   "source": [
    "# Retrieve DataFrame of unprocessed files for the last seven days for the given process\n",
    "\n",
    "raw_customers_path=raw_customers\n",
    "table_name=\"{}.{}\".format(raw_uk_schema,raw_customers_table)\n",
    "\n",
    "new_files_list = get_last_seven_days_unprocessed_files(base_path=raw_customers_path,raw_table_name=table_name)"
   ]
  },
  {
   "cell_type": "code",
   "execution_count": 0,
   "metadata": {
    "application/vnd.databricks.v1+cell": {
     "cellMetadata": {
      "byteLimit": 2048000,
      "rowLimit": 10000
     },
     "inputWidgets": {},
     "nuid": "2d78e7a9-9105-4e69-9c6b-cb3e064127b1",
     "showTitle": false,
     "tableResultSettingsMap": {},
     "title": ""
    }
   },
   "outputs": [],
   "source": [
    "# Check if there are any new files to process\n",
    "if len(new_files_list)==0:\n",
    "    print(\"No new files found to process.\")\n",
    "else:\n",
    "        # Read the raw CSV file into a DataFrame\n",
    "        df_raw = spark.read.format(\"csv\") \\\n",
    "            .option(\"header\", \"true\") \\\n",
    "            .option(\"inferSchema\", \"true\") \\\n",
    "            .load(new_files_list)\n",
    "        \n",
    "        # Add metadata columns to the DataFrame\n",
    "        df_raw = df_raw.withColumn(\"created_at\", current_timestamp())\n",
    "        df_raw = df_raw.withColumn(\"file_path\",col(\"_metadata.file_path\"))\n",
    "        df_raw = df_raw.withColumn(\"source_system\", lit(None).cast(\"string\")) #Set to None for testing scenario\n",
    "        df_raw = df_raw.withColumn(\"system_of_record\", lit(None).cast(\"string\")) #Set to None for testing scenario\n",
    "        # Append the processed DataFrame to the target table\n",
    "        \n",
    "        df_raw.write.mode(\"append\").option(\"mergeSchema\", \"true\").saveAsTable(\"{}.{}\".format(raw_uk_schema,raw_customers_table))\n",
    "        print(\"File processed and appended successfully.\")"
   ]
  }
 ],
 "metadata": {
  "application/vnd.databricks.v1+notebook": {
   "computePreferences": null,
   "dashboards": [],
   "environmentMetadata": {
    "base_environment": "",
    "environment_version": "3"
   },
   "inputWidgetPreferences": null,
   "language": "python",
   "notebookMetadata": {
    "mostRecentlyExecutedCommandWithImplicitDF": {
     "commandId": 5346887990978709,
     "dataframes": [
      "_sqldf"
     ]
    },
    "pythonIndentUnit": 4
   },
   "notebookName": "raw_customers",
   "widgets": {}
  },
  "language_info": {
   "name": "python"
  }
 },
 "nbformat": 4,
 "nbformat_minor": 0
}
