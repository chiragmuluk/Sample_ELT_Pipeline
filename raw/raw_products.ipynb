{
 "cells": [
  {
   "cell_type": "code",
   "execution_count": 0,
   "metadata": {
    "application/vnd.databricks.v1+cell": {
     "cellMetadata": {
      "byteLimit": 2048000,
      "rowLimit": 10000
     },
     "inputWidgets": {},
     "nuid": "ba893bb4-aa29-4c55-89e0-2ef276b57036",
     "showTitle": false,
     "tableResultSettingsMap": {},
     "title": ""
    }
   },
   "outputs": [],
   "source": [
    "# Import necessary types for defining DataFrame schemas\n",
    "from pyspark.sql.types import StructType, StructField, StringType, TimestampType\n",
    "\n",
    "# Import commonly used Spark SQL functions\n",
    "from pyspark.sql.functions import current_timestamp, lit, col, lower, broadcast\n",
    "\n",
    "# Import datetime utilities for date and time manipulation\n",
    "from datetime import datetime, timedelta"
   ]
  },
  {
   "cell_type": "code",
   "execution_count": 0,
   "metadata": {
    "application/vnd.databricks.v1+cell": {
     "cellMetadata": {
      "byteLimit": 2048000,
      "rowLimit": 10000
     },
     "inputWidgets": {},
     "nuid": "7184e11b-f64f-4e73-a036-35a5f6a77fdc",
     "showTitle": false,
     "tableResultSettingsMap": {},
     "title": ""
    }
   },
   "outputs": [],
   "source": [
    "# Import necessary types for defining DataFrame schemas\n",
    "from pyspark.sql.types import StructType, StructField, StringType, TimestampType\n",
    "\n",
    "# Import commonly used Spark SQL functions\n",
    "from pyspark.sql.functions import current_timestamp, lit, col, lower, broadcast\n",
    "\n",
    "# Import datetime utilities for date and time manipulation\n",
    "from datetime import datetime, timedelta"
   ]
  },
  {
   "cell_type": "code",
   "execution_count": 0,
   "metadata": {
    "application/vnd.databricks.v1+cell": {
     "cellMetadata": {
      "byteLimit": 2048000,
      "rowLimit": 10000
     },
     "inputWidgets": {},
     "nuid": "77b37432-eafb-4463-b81c-9a2885343954",
     "showTitle": false,
     "tableResultSettingsMap": {},
     "title": ""
    }
   },
   "outputs": [],
   "source": [
    "%run ../utils/helpers"
   ]
  },
  {
   "cell_type": "code",
   "execution_count": 0,
   "metadata": {
    "application/vnd.databricks.v1+cell": {
     "cellMetadata": {
      "byteLimit": 2048000,
      "rowLimit": 10000
     },
     "inputWidgets": {},
     "nuid": "b8dd5cfb-9578-4acc-b16a-43112a747afd",
     "showTitle": false,
     "tableResultSettingsMap": {},
     "title": ""
    }
   },
   "outputs": [],
   "source": [
    "%run ../utils/config"
   ]
  },
  {
   "cell_type": "code",
   "execution_count": 0,
   "metadata": {
    "application/vnd.databricks.v1+cell": {
     "cellMetadata": {
      "byteLimit": 2048000,
      "rowLimit": 10000
     },
     "inputWidgets": {},
     "nuid": "6de4a5fe-b1d4-4d5b-b4eb-00cedf944650",
     "showTitle": false,
     "tableResultSettingsMap": {},
     "title": ""
    }
   },
   "outputs": [],
   "source": [
    "# Retrieve DataFrame of unprocessed files for the last seven days for the given process\n",
    "\n",
    "raw_products_path=raw_products\n",
    "table_name=\"{}.{}\".format(raw_uk_schema,raw_products_table)\n",
    "\n",
    "new_files_list = get_last_seven_days_unprocessed_files(base_path=raw_products_path,raw_table_name=table_name)"
   ]
  },
  {
   "cell_type": "code",
   "execution_count": 0,
   "metadata": {
    "application/vnd.databricks.v1+cell": {
     "cellMetadata": {
      "byteLimit": 2048000,
      "rowLimit": 10000
     },
     "inputWidgets": {},
     "nuid": "04c1dd68-0c56-4c65-885a-a62fbe1271b1",
     "showTitle": false,
     "tableResultSettingsMap": {},
     "title": ""
    }
   },
   "outputs": [],
   "source": [
    "# Check if there are any new files to process\n",
    "if len(new_files_list)==0:\n",
    "    print(\"No new files found to process.\")\n",
    "else:\n",
    "        # Read the raw CSV file into a DataFrame\n",
    "        df_raw = spark.read.format(\"csv\") \\\n",
    "            .option(\"header\", \"true\") \\\n",
    "            .option(\"inferSchema\", \"true\") \\\n",
    "            .load(new_files_list)\n",
    "        \n",
    "        # Add metadata columns to the DataFrame\n",
    "        df_raw = df_raw.withColumn(\"created_at\", current_timestamp())\n",
    "        df_raw = df_raw.withColumn(\"file_path\",col(\"_metadata.file_path\"))\n",
    "        df_raw = df_raw.withColumn(\"source_system\", lit(None).cast(\"string\")) #Set to None for testing scenario\n",
    "        df_raw = df_raw.withColumn(\"system_of_record\", lit(None).cast(\"string\")) #Set to None for testing scenario\n",
    "        # Append the processed DataFrame to the target table\n",
    "        \n",
    "        df_raw.write.mode(\"append\").option(\"mergeSchema\", \"true\").saveAsTable(\"{}.{}\".format(raw_uk_schema,raw_products_table))\n",
    "        print(\"File processed and appended successfully.\")"
   ]
  }
 ],
 "metadata": {
  "application/vnd.databricks.v1+notebook": {
   "computePreferences": null,
   "dashboards": [],
   "environmentMetadata": {
    "base_environment": "",
    "environment_version": "3"
   },
   "inputWidgetPreferences": null,
   "language": "python",
   "notebookMetadata": {
    "mostRecentlyExecutedCommandWithImplicitDF": {
     "commandId": 5346887990978913,
     "dataframes": [
      "_sqldf"
     ]
    },
    "pythonIndentUnit": 4
   },
   "notebookName": "raw_products",
   "widgets": {}
  },
  "language_info": {
   "name": "python"
  }
 },
 "nbformat": 4,
 "nbformat_minor": 0
}
