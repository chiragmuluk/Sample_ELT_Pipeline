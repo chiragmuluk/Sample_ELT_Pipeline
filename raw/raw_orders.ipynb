{
 "cells": [
  {
   "cell_type": "code",
   "execution_count": 0,
   "metadata": {
    "application/vnd.databricks.v1+cell": {
     "cellMetadata": {
      "byteLimit": 2048000,
      "rowLimit": 10000
     },
     "inputWidgets": {},
     "nuid": "ba893bb4-aa29-4c55-89e0-2ef276b57036",
     "showTitle": false,
     "tableResultSettingsMap": {},
     "title": ""
    }
   },
   "outputs": [],
   "source": [
    "# Import necessary types for defining DataFrame schemas\n",
    "from pyspark.sql.types import StructType, StructField, StringType, TimestampType\n",
    "\n",
    "# Import functions for DataFrame transformations\n",
    "from pyspark.sql.functions import current_timestamp, lit, col, lower, broadcast\n",
    "\n",
    "# Import datetime utilities for date calculations\n",
    "from datetime import datetime, timedelta"
   ]
  },
  {
   "cell_type": "code",
   "execution_count": 0,
   "metadata": {
    "application/vnd.databricks.v1+cell": {
     "cellMetadata": {
      "byteLimit": 2048000,
      "rowLimit": 10000
     },
     "inputWidgets": {},
     "nuid": "ecf2d218-17a6-4127-8791-27469b21ca31",
     "showTitle": false,
     "tableResultSettingsMap": {},
     "title": ""
    }
   },
   "outputs": [],
   "source": [
    "%run ../utils/helpers"
   ]
  },
  {
   "cell_type": "code",
   "execution_count": 0,
   "metadata": {
    "application/vnd.databricks.v1+cell": {
     "cellMetadata": {
      "byteLimit": 2048000,
      "rowLimit": 10000
     },
     "inputWidgets": {},
     "nuid": "11c6029a-a187-4f85-b393-95b9fdabab9a",
     "showTitle": false,
     "tableResultSettingsMap": {},
     "title": ""
    }
   },
   "outputs": [],
   "source": [
    "%run ../utils/config"
   ]
  },
  {
   "cell_type": "code",
   "execution_count": 0,
   "metadata": {
    "application/vnd.databricks.v1+cell": {
     "cellMetadata": {
      "byteLimit": 2048000,
      "rowLimit": 10000
     },
     "inputWidgets": {},
     "nuid": "ac3e8e7a-b53d-4513-914e-43f16ea35bdf",
     "showTitle": false,
     "tableResultSettingsMap": {},
     "title": ""
    }
   },
   "outputs": [],
   "source": [
    "# Retrieve DataFrame of unprocessed files for the last seven days for the given process\n",
    "\n",
    "raw_orders_path=raw_orders\n",
    "table_name=\"{}.{}\".format(raw_uk_schema,raw_orders_table)\n",
    "\n",
    "new_files_list = get_last_seven_days_unprocessed_files(base_path=raw_orders_path,raw_table_name=table_name)"
   ]
  },
  {
   "cell_type": "code",
   "execution_count": 0,
   "metadata": {
    "application/vnd.databricks.v1+cell": {
     "cellMetadata": {
      "byteLimit": 2048000,
      "rowLimit": 10000
     },
     "inputWidgets": {},
     "nuid": "2d78e7a9-9105-4e69-9c6b-cb3e064127b1",
     "showTitle": false,
     "tableResultSettingsMap": {},
     "title": ""
    }
   },
   "outputs": [],
   "source": [
    "# Check if there are any new files to process\n",
    "if len(new_files_list)==0:\n",
    "    print(\"No new files found to process.\")\n",
    "else:\n",
    "        # Read the raw CSV file into a DataFrame\n",
    "        df_raw = spark.read.format(\"csv\") \\\n",
    "            .option(\"header\", \"true\") \\\n",
    "            .option(\"inferSchema\", \"true\") \\\n",
    "            .load(new_files_list)\n",
    "        \n",
    "        # Add metadata columns to the DataFrame\n",
    "        df_raw = df_raw.withColumn(\"created_at\", current_timestamp())\n",
    "        df_raw = df_raw.withColumn(\"file_path\",col(\"_metadata.file_path\"))\n",
    "        df_raw = df_raw.withColumn(\"source_system\", lit(None).cast(\"string\")) #Set to None for testing scenario\n",
    "        df_raw = df_raw.withColumn(\"system_of_record\", lit(None).cast(\"string\")) #Set to None for testing scenario\n",
    "        # Append the processed DataFrame to the target table\n",
    "        \n",
    "        df_raw.write.mode(\"append\").option(\"mergeSchema\", \"true\").saveAsTable(\"{}.{}\".format(raw_uk_schema,raw_orders_table))\n",
    "        print(\"File processed and appended successfully.\")"
   ]
  }
 ],
 "metadata": {
  "application/vnd.databricks.v1+notebook": {
   "computePreferences": null,
   "dashboards": [],
   "environmentMetadata": {
    "base_environment": "",
    "environment_version": "3"
   },
   "inputWidgetPreferences": null,
   "language": "python",
   "notebookMetadata": {
    "mostRecentlyExecutedCommandWithImplicitDF": {
     "commandId": -1,
     "dataframes": [
      "_sqldf"
     ]
    },
    "pythonIndentUnit": 4
   },
   "notebookName": "raw_orders",
   "widgets": {}
  },
  "language_info": {
   "name": "python"
  }
 },
 "nbformat": 4,
 "nbformat_minor": 0
}
