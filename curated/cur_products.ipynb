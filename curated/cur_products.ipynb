{
 "cells": [
  {
   "cell_type": "code",
   "execution_count": 0,
   "metadata": {
    "application/vnd.databricks.v1+cell": {
     "cellMetadata": {
      "byteLimit": 2048000,
      "rowLimit": 10000
     },
     "inputWidgets": {},
     "nuid": "8abe00a7-8ad8-4e96-a7d7-de4108a60199",
     "showTitle": false,
     "tableResultSettingsMap": {},
     "title": ""
    }
   },
   "outputs": [],
   "source": [
    "# Import necessary modules for working with Delta tables and Spark SQL functions\n",
    "from delta.tables import DeltaTable\n",
    "from pyspark.sql.functions import coalesce, current_timestamp, col, lit, max, sha2, concat_ws"
   ]
  },
  {
   "cell_type": "code",
   "execution_count": 0,
   "metadata": {
    "application/vnd.databricks.v1+cell": {
     "cellMetadata": {
      "byteLimit": 2048000,
      "rowLimit": 10000
     },
     "inputWidgets": {},
     "nuid": "1b8b52b6-c71a-4424-8f79-59c795d09aba",
     "showTitle": false,
     "tableResultSettingsMap": {},
     "title": ""
    }
   },
   "outputs": [],
   "source": [
    "%run ../utils/config"
   ]
  },
  {
   "cell_type": "code",
   "execution_count": 0,
   "metadata": {
    "application/vnd.databricks.v1+cell": {
     "cellMetadata": {
      "byteLimit": 2048000,
      "rowLimit": 10000
     },
     "inputWidgets": {},
     "nuid": "b7e1bcbc-5910-4b18-9744-e443c21fc580",
     "showTitle": false,
     "tableResultSettingsMap": {},
     "title": ""
    }
   },
   "outputs": [],
   "source": [
    "cleaned_products_table=\"{}.{}\".format(enriched_uk_schema,cleaned_products_table)\n",
    "dim_products_table=\"{}.{}\".format(curated_uk_schema,dim_products_table)"
   ]
  },
  {
   "cell_type": "code",
   "execution_count": 0,
   "metadata": {
    "application/vnd.databricks.v1+cell": {
     "cellMetadata": {
      "byteLimit": 2048000,
      "rowLimit": 10000
     },
     "inputWidgets": {},
     "nuid": "ca820458-186b-45fc-9a49-74054fc39768",
     "showTitle": false,
     "tableResultSettingsMap": {},
     "title": ""
    }
   },
   "outputs": [],
   "source": [
    "# Create a default record with placeholder 'UNKNOWN' values for missing products\n",
    "default_record = {\n",
    "    \"product_id\": \"UNKNOWN\",\n",
    "    \"product_name\": \"UNKNOWN\",\n",
    "    \"category\": \"UNKNOWN\",\n",
    "    \"unit_price\": -1,\n",
    "    \"start_date\": \"9999-12-01\",\n",
    "    \"end_date\": \"9999-12-01\",\n",
    "    \"is_current\": True,\n",
    "    \"load_date\": \"9999-12-01\",\n",
    "    \"source_system\": \"UNKNOWN\"\n",
    "}\n",
    "\n",
    "# Convert the default record to a Spark DataFrame\n",
    "default_df = spark.createDataFrame([default_record])\n",
    "\n",
    "# Add a product_hash_key column using SHA-256 hash of the 'UNKNOWN' value\n",
    "default_df = default_df.withColumn(\n",
    "    \"product_hash_key\",\n",
    "    sha2(concat_ws(\"^\", lit(\"UNKNOWN\")), 256)\n",
    ")"
   ]
  },
  {
   "cell_type": "code",
   "execution_count": 0,
   "metadata": {
    "application/vnd.databricks.v1+cell": {
     "cellMetadata": {
      "byteLimit": 2048000,
      "rowLimit": 10000
     },
     "inputWidgets": {},
     "nuid": "661eb8f2-f200-43d1-ae63-b6240aec8a5f",
     "showTitle": false,
     "tableResultSettingsMap": {},
     "title": ""
    }
   },
   "outputs": [],
   "source": [
    "# Get the latest load_date from the target table, or use '1900-01-01' if no records exist\n",
    "max_load_date = (\n",
    "    spark.table(dim_products_table)\n",
    "    .agg(\n",
    "        coalesce(\n",
    "            max(col(\"load_date\")),\n",
    "            lit(\"1900-01-01\")\n",
    "        ).alias(\"max_load_date\")\n",
    "    )\n",
    "    .collect()[0][\"max_load_date\"]\n",
    ")"
   ]
  },
  {
   "cell_type": "code",
   "execution_count": 0,
   "metadata": {
    "application/vnd.databricks.v1+cell": {
     "cellMetadata": {
      "byteLimit": 2048000,
      "rowLimit": 10000
     },
     "inputWidgets": {},
     "nuid": "f0840ae9-f71e-467c-9809-103c4cfc7c88",
     "showTitle": false,
     "tableResultSettingsMap": {},
     "title": ""
    }
   },
   "outputs": [],
   "source": [
    "# Load the source data from the enriched products table\n",
    "source_df = spark.table(cleaned_products_table) \n",
    "\n",
    "# Reference the target Delta table for dimension products\n",
    "delta_table = DeltaTable.forName(spark,dim_products_table)\n",
    "\n",
    "# Rename 'price' to 'unit_price' and add a current timestamp as 'load_date'\n",
    "source_df = (source_df\n",
    "            .withColumnRenamed(\"price\", \"unit_price\")\n",
    "            .withColumn(\"load_date\", current_timestamp()))\n",
    "\n",
    "# Filter source records to only those newer than the latest load_date in the target table\n",
    "filtered_source_df = source_df.filter(col(\"_processing_timestamp\") > max_load_date)\n",
    "\n",
    "# Drop unnecessary columns before merging\n",
    "filtered_source_df = filtered_source_df.drop(\"stock_quantity\", \"row_hash\", \"_processing_timestamp\", \"_source_file_path\")\n",
    "\n",
    "# Add the default record for missing products to the filtered source DataFrame\n",
    "filtered_source_df = filtered_source_df.unionByName(default_df)\n",
    "\n",
    "# Define the merge condition based on product_hash_key\n",
    "merge_condition = \"target.product_hash_key = source.product_hash_key\"\n",
    "\n",
    "# Define the update condition for when matched records should be updated\n",
    "update_condition = (\n",
    "    \"target.product_name <> source.product_name OR \"\n",
    "    \"target.category <> source.category OR \"\n",
    "    \"target.unit_price <> source.unit_price OR \"\n",
    "    \"target.start_date <> source.start_date OR \"\n",
    "    \"target.end_date <> source.end_date OR \"\n",
    "    \"target.is_current <> source.is_current OR \"\n",
    "    \"target.source_system <> source.source_system\"\n",
    ")\n",
    "\n",
    "# Perform the merge operation: update matched records, insert new records\n",
    "(\n",
    "    delta_table.alias(\"target\")\n",
    "    .merge(\n",
    "        filtered_source_df.alias(\"source\"),\n",
    "        merge_condition\n",
    "    )\n",
    "    .whenMatchedUpdate(\n",
    "        condition=update_condition,\n",
    "        set={\n",
    "            \"product_id\": \"source.product_id\",\n",
    "            \"product_name\": \"source.product_name\",\n",
    "            \"category\": \"source.category\",\n",
    "            \"unit_price\": \"source.unit_price\",\n",
    "            \"start_date\": \"source.start_date\",\n",
    "            \"end_date\": \"source.end_date\",\n",
    "            \"is_current\": \"source.is_current\",\n",
    "            \"load_date\": \"source.load_date\",\n",
    "            \"source_system\": \"source.source_system\"\n",
    "        }\n",
    "    )\n",
    "    .whenNotMatchedInsert(\n",
    "        values={\n",
    "            \"product_hash_key\": \"source.product_hash_key\",\n",
    "            \"product_id\": \"source.product_id\",\n",
    "            \"product_name\": \"source.product_name\",\n",
    "            \"category\": \"source.category\",\n",
    "            \"unit_price\": \"source.unit_price\",\n",
    "            \"start_date\": \"source.start_date\",\n",
    "            \"end_date\": \"source.end_date\",\n",
    "            \"is_current\": \"source.is_current\",\n",
    "            \"load_date\": \"source.load_date\",\n",
    "            \"source_system\": \"source.source_system\"\n",
    "        }\n",
    "    )\n",
    "    .execute()\n",
    ")"
   ]
  }
 ],
 "metadata": {
  "application/vnd.databricks.v1+notebook": {
   "computePreferences": {
    "hardware": {
     "accelerator": null,
     "gpuPoolId": null,
     "memory": null
    }
   },
   "dashboards": [],
   "environmentMetadata": {
    "base_environment": "",
    "environment_version": "3"
   },
   "inputWidgetPreferences": null,
   "language": "python",
   "notebookMetadata": {
    "pythonIndentUnit": 4
   },
   "notebookName": "cur_products",
   "widgets": {}
  },
  "language_info": {
   "name": "python"
  }
 },
 "nbformat": 4,
 "nbformat_minor": 0
}
