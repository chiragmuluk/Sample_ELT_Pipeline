{
 "cells": [
  {
   "cell_type": "code",
   "execution_count": 0,
   "metadata": {
    "application/vnd.databricks.v1+cell": {
     "cellMetadata": {
      "byteLimit": 2048000,
      "rowLimit": 10000
     },
     "inputWidgets": {},
     "nuid": "4eb35a25-8926-43a6-87cd-c71d8d1db406",
     "showTitle": false,
     "tableResultSettingsMap": {},
     "title": ""
    }
   },
   "outputs": [],
   "source": [
    "-- Insert generated calendar data into the dim_calendar table\n",
    "INSERT INTO workspace.insulet_uk_curated.dim_calendar\n",
    "-- Generate a sequence of dates from 2010-01-01 to 2030-12-31\n",
    "WITH date_sequence AS (\n",
    "  SELECT explode(\n",
    "    sequence(\n",
    "      DATE('2010-01-01'),\n",
    "      DATE('2030-12-31'),\n",
    "      INTERVAL 1 DAY\n",
    "    )\n",
    "  ) AS full_date\n",
    "),\n",
    "calendar_dates AS (\n",
    "  SELECT\n",
    "    -- Format date as YYYYMMDD for date_id\n",
    "    REPLACE(CAST(full_date AS STRING), '-', '') AS date_id,\n",
    "    full_date,\n",
    "    -- Extract day of month\n",
    "    DAY(full_date) AS day_of_month,\n",
    "    -- Extract day of week name\n",
    "    DATE_FORMAT(full_date, 'EEEE') AS day_of_week,\n",
    "    -- Extract calendar month\n",
    "    MONTH(full_date) AS calendar_month,\n",
    "    -- Extract calendar quarter\n",
    "    QUARTER(full_date) AS calendar_quarter,\n",
    "    -- Extract calendar year\n",
    "    YEAR(full_date) AS calendar_year,\n",
    "    -- Calculate fiscal year (starts 6th April)\n",
    "    CASE\n",
    "      WHEN MONTH(full_date) > 4 OR (MONTH(full_date) = 4 AND DAY(full_date) >= 6)\n",
    "        THEN YEAR(full_date)\n",
    "      ELSE YEAR(full_date) - 1\n",
    "    END AS fiscal_year,\n",
    "    -- Calculate fiscal month: April (from 6th) is month 1, May is 2, ..., March is 12\n",
    "    CASE\n",
    "      WHEN MONTH(full_date) > 4 OR (MONTH(full_date) = 4 AND DAY(full_date) >= 6)\n",
    "        THEN MONTH(full_date) - 3\n",
    "      ELSE MONTH(full_date) + 9\n",
    "    END AS fiscal_month,\n",
    "    -- Calculate fiscal quarter: Q1 = Apr-Jun, Q2 = Jul-Sep, Q3 = Oct-Dec, Q4 = Jan-Mar\n",
    "    CASE\n",
    "      WHEN (MONTH(full_date) > 4 OR (MONTH(full_date) = 4 AND DAY(full_date) >= 6))\n",
    "        THEN CEIL((MONTH(full_date) - 3) / 3.0)\n",
    "      ELSE CEIL((MONTH(full_date) + 9) / 3.0)\n",
    "    END AS fiscal_quarter,\n",
    "    -- Generate a hash key for the calendar row\n",
    "    sha2(concat_ws('^', CAST(full_date AS STRING)), 256) AS calendar_hash_key,\n",
    "    -- Record load timestamp\n",
    "    current_timestamp() AS load_date,\n",
    "    -- Source system identifier\n",
    "    'calendar_generator' AS source_system\n",
    "  FROM date_sequence\n",
    ")\n",
    "SELECT\n",
    "  calendar_hash_key,\n",
    "  date_id,\n",
    "  full_date,\n",
    "  day_of_month,\n",
    "  day_of_week,\n",
    "  calendar_month,\n",
    "  calendar_quarter,\n",
    "  calendar_year,\n",
    "  fiscal_month,\n",
    "  fiscal_quarter,\n",
    "  fiscal_year,\n",
    "  load_date,\n",
    "  source_system\n",
    "FROM calendar_dates"
   ]
  }
 ],
 "metadata": {
  "application/vnd.databricks.v1+notebook": {
   "computePreferences": null,
   "dashboards": [],
   "environmentMetadata": {
    "base_environment": "",
    "environment_version": "3"
   },
   "inputWidgetPreferences": null,
   "language": "sql",
   "notebookMetadata": {
    "pythonIndentUnit": 4
   },
   "notebookName": "cur_calendar",
   "widgets": {}
  },
  "language_info": {
   "name": "sql"
  }
 },
 "nbformat": 4,
 "nbformat_minor": 0
}
