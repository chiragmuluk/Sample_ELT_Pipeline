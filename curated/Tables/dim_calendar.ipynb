{
 "cells": [
  {
   "cell_type": "code",
   "execution_count": 0,
   "metadata": {
    "application/vnd.databricks.v1+cell": {
     "cellMetadata": {
      "byteLimit": 2048000,
      "rowLimit": 10000
     },
     "inputWidgets": {},
     "nuid": "3f09143a-f071-463f-9b26-9e7e4e7f596d",
     "showTitle": false,
     "tableResultSettingsMap": {},
     "title": ""
    }
   },
   "outputs": [],
   "source": [
    "CREATE TABLE IF NOT EXISTS workspace.insulet_uk_curated.dim_calendar (\n",
    "    calendar_hash_key STRING COMMENT 'Unique hash key for the calendar row',\n",
    "    date_id INT COMMENT 'Integer identifier for the date',\n",
    "    full_date DATE COMMENT 'Full calendar date',\n",
    "    day_of_month INT COMMENT 'Day of the month (1-31)',\n",
    "    day_of_week STRING COMMENT 'Day of the week (e.g., Monday)',\n",
    "    calendar_month INT COMMENT 'Calendar month (1-12)',\n",
    "    calendar_quarter INT COMMENT 'Calendar quarter (1-4)',\n",
    "    calendar_year INT COMMENT 'Calendar year (e.g., 2025)',\n",
    "    fiscal_month INT COMMENT 'Fiscal month (1-12)',\n",
    "    fiscal_quarter INT COMMENT 'Fiscal quarter (1-4)',\n",
    "    fiscal_year INT COMMENT 'Fiscal year (e.g., 2025)',\n",
    "    load_date TIMESTAMP COMMENT 'Timestamp when the row was loaded',\n",
    "    source_system STRING COMMENT 'Source system of the data'\n",
    ")\n",
    "USING DELTA"
   ]
  }
 ],
 "metadata": {
  "application/vnd.databricks.v1+notebook": {
   "computePreferences": null,
   "dashboards": [],
   "environmentMetadata": {
    "base_environment": "",
    "environment_version": "3"
   },
   "inputWidgetPreferences": null,
   "language": "sql",
   "notebookMetadata": {
    "pythonIndentUnit": 4
   },
   "notebookName": "dim_calendar",
   "widgets": {}
  },
  "language_info": {
   "name": "sql"
  }
 },
 "nbformat": 4,
 "nbformat_minor": 0
}
