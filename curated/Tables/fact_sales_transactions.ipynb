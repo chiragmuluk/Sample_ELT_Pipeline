{
 "cells": [
  {
   "cell_type": "code",
   "execution_count": 0,
   "metadata": {
    "application/vnd.databricks.v1+cell": {
     "cellMetadata": {
      "byteLimit": 2048000,
      "rowLimit": 10000
     },
     "inputWidgets": {},
     "nuid": "fe1c1014-fb9c-452c-b790-e32df362d02e",
     "showTitle": false,
     "tableResultSettingsMap": {},
     "title": ""
    }
   },
   "outputs": [],
   "source": [
    "CREATE TABLE IF NOT EXISTS workspace.insulet_uk_curated.fact_sales_transactions (\n",
    "    order_id STRING COMMENT 'Unique identifier for the order',\n",
    "    order_hash_key STRING COMMENT 'Hash key for the order',\n",
    "    customer_hash_key STRING COMMENT 'Hash key for the customer',\n",
    "    product_hash_key STRING COMMENT 'Hash key for the product',\n",
    "    calendar_hash_key STRING COMMENT 'Hash key for the calendar date',\n",
    "    -- status STRING COMMENT 'Order status',\n",
    "    quantity INT COMMENT 'Quantity of products ordered',\n",
    "    total_amount DOUBLE COMMENT 'Total amount for the order',\n",
    "    source_system STRING COMMENT 'Source system of the transaction',\n",
    "    load_date TIMESTAMP COMMENT 'Date and time the record was loaded'\n",
    ")\n",
    "USING DELTA\n",
    "COMMENT 'Fact table containing sales transactions for Insulet UK'"
   ]
  }
 ],
 "metadata": {
  "application/vnd.databricks.v1+notebook": {
   "computePreferences": null,
   "dashboards": [],
   "environmentMetadata": {
    "base_environment": "",
    "environment_version": "3"
   },
   "inputWidgetPreferences": null,
   "language": "sql",
   "notebookMetadata": {
    "pythonIndentUnit": 4
   },
   "notebookName": "fact_sales_transactions",
   "widgets": {}
  },
  "language_info": {
   "name": "sql"
  }
 },
 "nbformat": 4,
 "nbformat_minor": 0
}
