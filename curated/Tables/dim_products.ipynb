{
 "cells": [
  {
   "cell_type": "code",
   "execution_count": 0,
   "metadata": {
    "application/vnd.databricks.v1+cell": {
     "cellMetadata": {
      "byteLimit": 2048000,
      "rowLimit": 10000
     },
     "inputWidgets": {},
     "nuid": "79530c0d-1c91-433c-a81c-d977a62871ab",
     "showTitle": false,
     "tableResultSettingsMap": {},
     "title": ""
    }
   },
   "outputs": [],
   "source": [
    "CREATE TABLE IF NOT EXISTS workspace.insulet_uk_curated.dim_products (\n",
    "    product_hash_key STRING COMMENT 'Unique hash key for the product record',\n",
    "    product_id STRING COMMENT 'Product identifier',\n",
    "    product_name STRING COMMENT 'Name of the product',\n",
    "    category STRING COMMENT 'Product category',\n",
    "    unit_price DOUBLE COMMENT 'Unit price of the product',\n",
    "    start_date DATE COMMENT 'Start date of product validity',\n",
    "    end_date DATE COMMENT 'End date of product validity',\n",
    "    is_current BOOLEAN COMMENT 'Flag indicating if the product record is current',\n",
    "    load_date TIMESTAMP COMMENT 'Timestamp when the record was loaded',\n",
    "    source_system STRING COMMENT 'Source system of the product data'\n",
    ")\n",
    "USING DELTA"
   ]
  }
 ],
 "metadata": {
  "application/vnd.databricks.v1+notebook": {
   "computePreferences": null,
   "dashboards": [],
   "environmentMetadata": {
    "base_environment": "",
    "environment_version": "3"
   },
   "inputWidgetPreferences": null,
   "language": "sql",
   "notebookMetadata": {
    "pythonIndentUnit": 4
   },
   "notebookName": "dim_products",
   "widgets": {}
  },
  "language_info": {
   "name": "sql"
  }
 },
 "nbformat": 4,
 "nbformat_minor": 0
}
