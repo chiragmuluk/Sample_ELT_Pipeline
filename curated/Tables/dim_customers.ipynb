{
 "cells": [
  {
   "cell_type": "code",
   "execution_count": 0,
   "metadata": {
    "application/vnd.databricks.v1+cell": {
     "cellMetadata": {
      "byteLimit": 2048000,
      "rowLimit": 10000
     },
     "inputWidgets": {},
     "nuid": "81819b01-2729-4d82-a090-0fa31d4b45ab",
     "showTitle": false,
     "tableResultSettingsMap": {},
     "title": ""
    }
   },
   "outputs": [],
   "source": [
    "CREATE TABLE IF NOT EXISTS workspace.insulet_uk_curated.dim_customers (\n",
    "    customer_hash_key STRING COMMENT 'Unique hash key for the customer',\n",
    "    customer_id STRING COMMENT 'Customer identifier',\n",
    "    first_name STRING COMMENT 'Customer first name',\n",
    "    last_name STRING COMMENT 'Customer last name',\n",
    "    email STRING COMMENT 'Customer email address',\n",
    "    registration_date DATE COMMENT 'Date the customer registered',\n",
    "    city STRING COMMENT 'Customer city',\n",
    "    country STRING COMMENT 'Customer country',\n",
    "    load_date TIMESTAMP COMMENT 'Timestamp when the record was loaded',\n",
    "    source_system STRING COMMENT 'Source system of the data'\n",
    ")\n",
    "USING DELTA"
   ]
  }
 ],
 "metadata": {
  "application/vnd.databricks.v1+notebook": {
   "computePreferences": {
    "hardware": {
     "accelerator": null,
     "gpuPoolId": null,
     "memory": null
    }
   },
   "dashboards": [],
   "environmentMetadata": {
    "base_environment": "",
    "environment_version": "3"
   },
   "inputWidgetPreferences": null,
   "language": "sql",
   "notebookMetadata": {
    "pythonIndentUnit": 4
   },
   "notebookName": "dim_customers",
   "widgets": {}
  },
  "language_info": {
   "name": "sql"
  }
 },
 "nbformat": 4,
 "nbformat_minor": 0
}
