{
 "cells": [
  {
   "cell_type": "code",
   "execution_count": 0,
   "metadata": {
    "application/vnd.databricks.v1+cell": {
     "cellMetadata": {
      "byteLimit": 2048000,
      "implicitDf": true,
      "rowLimit": 10000
     },
     "inputWidgets": {},
     "nuid": "98d14fb8-06c9-4708-8084-f30d2d125212",
     "showTitle": false,
     "tableResultSettingsMap": {},
     "title": ""
    }
   },
   "outputs": [],
   "source": [
    "# Import DeltaTable for Delta Lake operations\n",
    "from delta.tables import DeltaTable\n",
    "\n",
    "# Import necessary PySpark SQL functions for DataFrame transformations\n",
    "from pyspark.sql.functions import coalesce, current_timestamp, col, lit, max, sha2, concat_ws, round   "
   ]
  },
  {
   "cell_type": "code",
   "execution_count": 0,
   "metadata": {
    "application/vnd.databricks.v1+cell": {
     "cellMetadata": {
      "byteLimit": 2048000,
      "rowLimit": 10000
     },
     "inputWidgets": {},
     "nuid": "d7eac597-e549-464f-95de-cebc294f38ad",
     "showTitle": false,
     "tableResultSettingsMap": {},
     "title": ""
    }
   },
   "outputs": [],
   "source": [
    "%run ../utils/config"
   ]
  },
  {
   "cell_type": "code",
   "execution_count": 0,
   "metadata": {
    "application/vnd.databricks.v1+cell": {
     "cellMetadata": {
      "byteLimit": 2048000,
      "rowLimit": 10000
     },
     "inputWidgets": {},
     "nuid": "90a84084-2b69-486b-967c-4e6b4438afc9",
     "showTitle": false,
     "tableResultSettingsMap": {},
     "title": ""
    }
   },
   "outputs": [],
   "source": [
    "cleaned_orders_table=\"{}.{}\".format(enriched_uk_schema,cleaned_orders_table)\n",
    "fact_sales_transactions_table=\"{}.{}\".format(curated_uk_schema,fact_sales_transactions_table)"
   ]
  },
  {
   "cell_type": "code",
   "execution_count": 0,
   "metadata": {
    "application/vnd.databricks.v1+cell": {
     "cellMetadata": {
      "byteLimit": 2048000,
      "rowLimit": 10000
     },
     "inputWidgets": {},
     "nuid": "80c460ea-09fc-470b-b004-adf568556f43",
     "showTitle": false,
     "tableResultSettingsMap": {},
     "title": ""
    }
   },
   "outputs": [],
   "source": [
    "# Get the latest load_date from the target table, or use '1900-01-01' if the table is empty\n",
    "max_load_date = (\n",
    "    spark.table(fact_sales_transactions_table)\n",
    "    .agg(\n",
    "        coalesce(\n",
    "            max(col(\"load_date\")),\n",
    "            lit(\"1900-01-01\")\n",
    "        ).alias(\"max_load_date\")\n",
    "    )\n",
    "    .collect()[0][\"max_load_date\"]\n",
    ")"
   ]
  },
  {
   "cell_type": "code",
   "execution_count": 0,
   "metadata": {
    "application/vnd.databricks.v1+cell": {
     "cellMetadata": {
      "byteLimit": 2048000,
      "rowLimit": 10000
     },
     "inputWidgets": {},
     "nuid": "7e1f95a5-e7a4-4e2c-9348-9d1c3a84649b",
     "showTitle": false,
     "tableResultSettingsMap": {},
     "title": ""
    }
   },
   "outputs": [],
   "source": [
    "# Load the cleaned orders table\n",
    "ord = spark.table(cleaned_orders_table)\n",
    "\n",
    "# Filter orders with _processing_timestamp greater than the latest load_date\n",
    "filtered_source_df = ord.filter(col(\"_processing_timestamp\") > max_load_date)\n",
    "\n",
    "# Select and transform columns for fact_sales_transactions\n",
    "fact_sales_transactions = filtered_source_df.filter(col(\"status\") == \"Delivered\").select(\n",
    "    col(\"order_id\"),\n",
    "    col(\"order_hash_key\"),\n",
    "    sha2(concat_ws('^', col(\"customer_id\")), 256).alias(\"customer_hash_key\"),  # Hash customer_id\n",
    "    sha2(concat_ws('^',col(\"product_id\")), 256).alias(\"product_hash_key\"),      # Hash product_id\n",
    "    sha2(concat_ws('^', col('order_date').cast('string')), 256).alias(\"calendar_hash_key\"),  # Hash order_date\n",
    "    col(\"quantity\"),\n",
    "    round(col(\"total_amount\"), 2).alias(\"total_amount\"),\n",
    "    col(\"source_system\"),\n",
    "    current_timestamp().alias(\"load_date\")  # Add current timestamp as load_date\n",
    ")\n",
    "\n",
    "# Insert transformed data into the fact_sales_transactions table\n",
    "fact_sales_transactions.write.insertInto(fact_sales_transactions_table)"
   ]
  }
 ],
 "metadata": {
  "application/vnd.databricks.v1+notebook": {
   "computePreferences": null,
   "dashboards": [],
   "environmentMetadata": {
    "base_environment": "",
    "environment_version": "3"
   },
   "inputWidgetPreferences": null,
   "language": "python",
   "notebookMetadata": {
    "mostRecentlyExecutedCommandWithImplicitDF": {
     "commandId": -1,
     "dataframes": [
      "_sqldf"
     ]
    },
    "pythonIndentUnit": 4
   },
   "notebookName": "cur_sales_transactions",
   "widgets": {}
  },
  "language_info": {
   "name": "python"
  }
 },
 "nbformat": 4,
 "nbformat_minor": 0
}
